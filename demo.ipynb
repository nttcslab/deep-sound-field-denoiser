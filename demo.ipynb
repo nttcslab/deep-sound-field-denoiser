{
 "cells": [
  {
   "cell_type": "code",
   "execution_count": null,
   "metadata": {},
   "outputs": [],
   "source": [
    "import numpy as np\n",
    "import matplotlib.pyplot as plt\n",
    "import torch\n",
    "\n",
    "from evaluate import denoise\n",
    "from utils.loaddataset import SoundfieldDatasetLoader\n",
    "from utils.modelhandler import loadtrainedmodel\n",
    "from utils.util import load_config_yaml"
   ]
  },
  {
   "cell_type": "code",
   "execution_count": null,
   "metadata": {},
   "outputs": [],
   "source": [
    "device = torch.device(\"cuda:0\" if torch.cuda.is_available() else \"cpu\")"
   ]
  },
  {
   "cell_type": "code",
   "execution_count": null,
   "metadata": {},
   "outputs": [],
   "source": [
    "# Load config file\n",
    "config_file_path = \"config.yml\"\n",
    "yaml_contents = load_config_yaml(config_file_path)\n",
    "config = yaml_contents[\"eval\"]\n",
    "\n",
    "# Load dataset\n",
    "loader = SoundfieldDatasetLoader(config[\"dataset\"])\n",
    "dataset = loader.load()\n",
    "im_noise, im_true = dataset[:]"
   ]
  },
  {
   "cell_type": "code",
   "execution_count": null,
   "metadata": {},
   "outputs": [],
   "source": [
    "# Choose one data randomly\n",
    "idx = np.random.randint(0, im_noise.shape[0])\n",
    "im_n = im_noise[idx,...].unsqueeze(0)\n",
    "im_t = im_true[idx,...].unsqueeze(0)\n",
    "\n",
    "# Denoising by DNN\n",
    "net = loadtrainedmodel(config[\"network\"][\"model\"], config[\"network\"][\"weights_file\"]).to(device)\n",
    "im_d = net(im_n.to(device)).cpu()\n",
    "\n",
    "# Torch to numpy\n",
    "im_t = torch.squeeze(im_t).detach().numpy()\n",
    "im_n = torch.squeeze(im_n).detach().numpy()\n",
    "im_d = torch.squeeze(im_d).detach().numpy()\n",
    "\n",
    "# Show images (real parts)\n",
    "fig, axs = plt.subplots(1,3)\n",
    "axs[0].imshow(im_t[0,...], vmin=-1, vmax=1)\n",
    "axs[0].set_title(\"True\")\n",
    "axs[1].imshow(im_n[0,...], vmin=-1, vmax=1)\n",
    "axs[1].set_title(\"Noisy\")\n",
    "axs[2].imshow(im_d[0,...], vmin=-1, vmax=1)\n",
    "axs[2].set_title(\"Denoised\")\n"
   ]
  }
 ],
 "metadata": {
  "kernelspec": {
   "display_name": "base",
   "language": "python",
   "name": "python3"
  },
  "language_info": {
   "codemirror_mode": {
    "name": "ipython",
    "version": 3
   },
   "file_extension": ".py",
   "mimetype": "text/x-python",
   "name": "python",
   "nbconvert_exporter": "python",
   "pygments_lexer": "ipython3",
   "version": "3.8.13"
  },
  "orig_nbformat": 4
 },
 "nbformat": 4,
 "nbformat_minor": 2
}
